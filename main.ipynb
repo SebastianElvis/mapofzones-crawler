{
 "cells": [
  {
   "cell_type": "code",
   "execution_count": 1,
   "metadata": {},
   "outputs": [],
   "source": [
    "from python_graphql_client import GraphqlClient\n",
    "import json\n",
    "import networkx as nx\n",
    "import matplotlib.pyplot as plt"
   ]
  },
  {
   "cell_type": "code",
   "execution_count": 4,
   "metadata": {},
   "outputs": [
    {
     "name": "stdout",
     "output_type": "stream",
     "text": [
      "{'data': {'blockchain': [{'name': 'Stride', '__typename': 'flat_blockchains'}]}}\n"
     ]
    }
   ],
   "source": [
    "endpoint = 'https://api2.mapofzones.com/v1/graphql'\n",
    "\n",
    "# Instantiate the client with an endpoint.\n",
    "client = GraphqlClient(endpoint=endpoint)\n",
    "\n",
    "# Create the query string and variables required for the request.\n",
    "query = \"\"\"\n",
    "    query ZoneName($zone: String!) {\n",
    "        blockchain: flat_blockchains(where: {network_id: {_eq: $zone}}) {\n",
    "            name\n",
    "            __typename\n",
    "        }\n",
    "    }\n",
    "\"\"\"\n",
    "\n",
    "variables = {\"zone\":\"stride-1\"}\n",
    "\n",
    "# Synchronous request\n",
    "data = client.execute(query=query, variables=variables)\n",
    "print(data) "
   ]
  },
  {
   "cell_type": "code",
   "execution_count": 34,
   "metadata": {},
   "outputs": [],
   "source": [
    "query = \"\"\"\n",
    "query AseetsTable {\n",
    "  assets: flat_tokens {\n",
    "    blockchain: blockchainByBlockchain {\n",
    "      name\n",
    "      __typename\n",
    "    }\n",
    "    symbol\n",
    "    logoUrl: logo_url\n",
    "    price\n",
    "    price24hDiffPercent: price_day_diff_percent\n",
    "    price7dDiffPercent: price_week_diff_percent\n",
    "    marketCap: market_cap\n",
    "    volume24h: token_day_trading_volume\n",
    "    volume24hDiffPercent: token_day_trading_volume_diff_percent\n",
    "    onChainSupply: on_chain_supply\n",
    "    priceChart: token_charts(\n",
    "      where: {chart_type: {_eq: \"price_weekly\"}}\n",
    "      order_by: {point_index: asc}\n",
    "    ) {\n",
    "      price: point_value\n",
    "      __typename\n",
    "    }\n",
    "    __typename\n",
    "  }\n",
    "}\n",
    "\"\"\"\n",
    "\n",
    "variables = {}\n",
    "\n",
    "data = client.execute(query=query, variables=variables)\n",
    "with open('data/marketcap.json', 'w') as f:\n",
    "    json.dump(data, f)"
   ]
  },
  {
   "cell_type": "code",
   "execution_count": 32,
   "metadata": {},
   "outputs": [],
   "source": [
    "query = \"\"\"\n",
    "query ZonesMap($period: Int!, $isMainnet: Boolean!) {\n",
    "  zonesStats: flat_blockchains(where: {is_mainnet: {_eq: $isMainnet}}) {\n",
    "    ...ZoneBaseInfoV2\n",
    "    isMainnet: is_mainnet\n",
    "    switchedStats: blockchain_switched_stats(\n",
    "      where: {timeframe: {_eq: $period}, is_mainnet: {_eq: $isMainnet}}\n",
    "    ) {\n",
    "      ibcVolume: ibc_cashflow\n",
    "      ibcVolumeIn: ibc_cashflow_in\n",
    "      ibcVolumeOut: ibc_cashflow_out\n",
    "      ibcVolumeRating: ibc_cashflow_rating\n",
    "      ibcTransfersRating: ibc_transfers_rating\n",
    "      dauRating: active_addresses_cnt_rating\n",
    "      totalTxsRating: txs_rating\n",
    "      __typename\n",
    "    }\n",
    "    __typename\n",
    "  }\n",
    "  zonesGraphs: flat_blockchain_relations(\n",
    "    where: {blockchain: {is_mainnet: {_eq: $isMainnet}}, blockchainByBlockchainSource: {is_mainnet: {_eq: $isMainnet}}, timeframe: {_eq: $period}}\n",
    "  ) {\n",
    "    source: blockchain_source\n",
    "    target: blockchain_target\n",
    "    ibcVolume: ibc_cashflow\n",
    "    __typename\n",
    "  }\n",
    "}\n",
    "\n",
    "fragment ZoneBaseInfoV2 on flat_blockchains {\n",
    "  zone: network_id\n",
    "  logoUrl: logo_url\n",
    "  name: name\n",
    "  __typename\n",
    "}\n",
    "\"\"\"\n",
    "\n",
    "variables = {\"period\": 24, \"isMainnet\": True}\n",
    "data = client.execute(query=query, variables=variables)\n",
    "\n",
    "with open('data/zonemap.json', 'w') as f:\n",
    "    json.dump(data, f)"
   ]
  },
  {
   "cell_type": "code",
   "execution_count": 18,
   "metadata": {},
   "outputs": [],
   "source": [
    "mapdata = dict()\n",
    "\n",
    "with open('data/zonemap.json', 'r') as f:\n",
    "    mapdata = json.load(f)\n",
    "\n",
    "zones = mapdata['data']['zonesStats']\n",
    "channels = mapdata['data']['zonesGraphs']"
   ]
  },
  {
   "cell_type": "code",
   "execution_count": 50,
   "metadata": {},
   "outputs": [
    {
     "data": {
      "text/plain": [
       "{'Agoric': 401990795.619125,\n",
       " 'Akash': 52244643.4735865,\n",
       " 'Axelar': 3425700.09859555,\n",
       " 'Bitcanna': 7727829.48730632,\n",
       " 'BitSong': 1078320.7474602,\n",
       " 'Bostrom': 12705070.0792921,\n",
       " 'Canto': 133792759.814222,\n",
       " 'cheqd': 29455587.6018665,\n",
       " 'Chihuahua': 8750496.74738753,\n",
       " 'Terra': None,\n",
       " 'Comdex': 13825422.971917,\n",
       " 'Persistence': 94523878.0819665,\n",
       " 'Crescent Network': 2102419.70522711,\n",
       " 'Cronos': 183378257.698603,\n",
       " 'Crypto.org': 1940840362.95697,\n",
       " 'Konstellation': 2196952.2347101,\n",
       " 'Desmos': 4446458.34286593,\n",
       " 'Dig Chain': 394824.2004003,\n",
       " 'E-money': 3581914.09558784,\n",
       " 'Evmos': 310015103.185121,\n",
       " 'OKX Chain': 74.6459998498542,\n",
       " 'Fetch.ai': 262173641.897068,\n",
       " 'Gravity Bridge': 21326862.0022816,\n",
       " 'Ixo': 2541181.69978464,\n",
       " 'Injective': 92166612.253146,\n",
       " 'Starname': 627943.204641248,\n",
       " 'Iris': 31407421.2462078,\n",
       " 'Jackal': 30024787.5246271,\n",
       " 'Juno': 125944370.422194,\n",
       " 'Kujira': 73012094.2289174,\n",
       " 'KiChain': 60488704.8870771,\n",
       " 'Band': 254671395.461194,\n",
       " 'LikeCoin': 2478664.63906548,\n",
       " 'Cosmos Hub': 4401823025,\n",
       " 'Lum Network': 5318719.87228176,\n",
       " 'Decentr': 619004.976144085,\n",
       " 'AssetMantle': 5465203.45465773,\n",
       " 'Microtick': None,\n",
       " 'Osmosis': 24232028.5656408,\n",
       " 'MediBloc': 133692271.170311,\n",
       " 'Regen': 28487798.3022382,\n",
       " 'Secret': 191044939.688491,\n",
       " 'Sentinel': 5770159.88178482,\n",
       " 'Shentu': 92801351.2339889,\n",
       " 'Sifchain': 1197888.87743288,\n",
       " 'Sommelier': 45388468.469626,\n",
       " 'Stargaze': 60033493.7820665,\n",
       " 'Stride': 6138166.99372998,\n",
       " 'RiZON': 19562477.8791705,\n",
       " 'Umee': 85561421.9726252,\n",
       " 'Vidulum': 378013.724010443}"
      ]
     },
     "execution_count": 50,
     "metadata": {},
     "output_type": "execute_result"
    }
   ],
   "source": [
    "marketdata_raw = dict()\n",
    "with open('data/marketcap.json', 'r') as f:\n",
    "    marketdata_raw = json.load(f)\n",
    "\n",
    "marketdata = dict()\n",
    "for asset in marketdata_raw['data']['assets']:\n",
    "    marketdata[asset['blockchain']['name']] = asset['marketCap']\n",
    "\n",
    "marketdata"
   ]
  },
  {
   "cell_type": "code",
   "execution_count": 57,
   "metadata": {},
   "outputs": [
    {
     "data": {
      "text/plain": [
       "(['evmos_9001-2',\n",
       "  'kaiyo-1',\n",
       "  'axelar-dojo-1',\n",
       "  'juno-1',\n",
       "  'cosmoshub-4',\n",
       "  'osmosis-1'],\n",
       " 4938452320)"
      ]
     },
     "execution_count": 57,
     "metadata": {},
     "output_type": "execute_result"
    }
   ],
   "source": [
    "\n",
    "\n",
    "G = nx.Graph()\n",
    "for zone in zones:\n",
    "    if zone['name'] in marketdata and marketdata[zone['name']] != None:\n",
    "        market_cap = int(marketdata[zone['name']])\n",
    "        G.add_node(zone['zone'], weight=market_cap)\n",
    "\n",
    "for chan in channels:\n",
    "    if chan[\"ibcVolume\"] == 0:\n",
    "        continue\n",
    "    if chan[\"source\"] not in G.nodes:\n",
    "        continue\n",
    "    if chan['target'] not in G.nodes:\n",
    "        continue\n",
    "    G.add_edge(chan[\"source\"], chan[\"target\"], weight=chan[\"ibcVolume\"])\n",
    "\n",
    "# G.nodes\n",
    "\n",
    "# max weight clique in terms of node weights\n",
    "nx.max_weight_clique(G)\n",
    "\n"
   ]
  },
  {
   "cell_type": "code",
   "execution_count": null,
   "metadata": {},
   "outputs": [],
   "source": []
  }
 ],
 "metadata": {
  "kernelspec": {
   "display_name": "Python 3",
   "language": "python",
   "name": "python3"
  },
  "language_info": {
   "codemirror_mode": {
    "name": "ipython",
    "version": 3
   },
   "file_extension": ".py",
   "mimetype": "text/x-python",
   "name": "python",
   "nbconvert_exporter": "python",
   "pygments_lexer": "ipython3",
   "version": "3.8.9"
  },
  "orig_nbformat": 4,
  "vscode": {
   "interpreter": {
    "hash": "31f2aee4e71d21fbe5cf8b01ff0e069b9275f58929596ceb00d14d90e3e16cd6"
   }
  }
 },
 "nbformat": 4,
 "nbformat_minor": 2
}
