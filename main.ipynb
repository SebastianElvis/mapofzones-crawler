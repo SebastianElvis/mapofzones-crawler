{
 "cells": [
  {
   "cell_type": "code",
   "execution_count": 1,
   "metadata": {},
   "outputs": [],
   "source": [
    "from python_graphql_client import GraphqlClient"
   ]
  },
  {
   "cell_type": "code",
   "execution_count": 4,
   "metadata": {},
   "outputs": [
    {
     "name": "stdout",
     "output_type": "stream",
     "text": [
      "{'data': {'blockchain': [{'name': 'Stride', '__typename': 'flat_blockchains'}]}}\n"
     ]
    }
   ],
   "source": [
    "endpoint = 'https://api2.mapofzones.com/v1/graphql'\n",
    "\n",
    "# Instantiate the client with an endpoint.\n",
    "client = GraphqlClient(endpoint=endpoint)\n",
    "\n",
    "# Create the query string and variables required for the request.\n",
    "query = \"\"\"\n",
    "    query ZoneName($zone: String!) {\n",
    "        blockchain: flat_blockchains(where: {network_id: {_eq: $zone}}) {\n",
    "            name\n",
    "            __typename\n",
    "        }\n",
    "    }\n",
    "\"\"\"\n",
    "\n",
    "variables = {\"zone\":\"stride-1\"}\n",
    "\n",
    "# Synchronous request\n",
    "data = client.execute(query=query, variables=variables)\n",
    "print(data) "
   ]
  },
  {
   "cell_type": "code",
   "execution_count": 10,
   "metadata": {},
   "outputs": [],
   "source": [
    "query = \"\"\"\n",
    "query ZonesMap($period: Int!, $isMainnet: Boolean!) {\n",
    "  zonesStats: flat_blockchains(where: {is_mainnet: {_eq: $isMainnet}}) {\n",
    "    ...ZoneBaseInfoV2\n",
    "    isMainnet: is_mainnet\n",
    "    switchedStats: blockchain_switched_stats(\n",
    "      where: {timeframe: {_eq: $period}, is_mainnet: {_eq: $isMainnet}}\n",
    "    ) {\n",
    "      ibcVolume: ibc_cashflow\n",
    "      ibcVolumeIn: ibc_cashflow_in\n",
    "      ibcVolumeOut: ibc_cashflow_out\n",
    "      ibcVolumeRating: ibc_cashflow_rating\n",
    "      ibcTransfersRating: ibc_transfers_rating\n",
    "      dauRating: active_addresses_cnt_rating\n",
    "      totalTxsRating: txs_rating\n",
    "      __typename\n",
    "    }\n",
    "    __typename\n",
    "  }\n",
    "  zonesGraphs: flat_blockchain_relations(\n",
    "    where: {blockchain: {is_mainnet: {_eq: $isMainnet}}, blockchainByBlockchainSource: {is_mainnet: {_eq: $isMainnet}}, timeframe: {_eq: $period}}\n",
    "  ) {\n",
    "    source: blockchain_source\n",
    "    target: blockchain_target\n",
    "    ibcVolume: ibc_cashflow\n",
    "    __typename\n",
    "  }\n",
    "}\n",
    "\n",
    "fragment ZoneBaseInfoV2 on flat_blockchains {\n",
    "  zone: network_id\n",
    "  logoUrl: logo_url\n",
    "  name: name\n",
    "  __typename\n",
    "}\n",
    "\"\"\"\n",
    "\n",
    "variables = {\"period\": 24, \"isMainnet\": True}\n",
    "data = client.execute(query=query, variables=variables)\n",
    "\n",
    "import json\n",
    "with open('data/zonemap.json', 'w') as f:\n",
    "    json.dump(data, f)"
   ]
  },
  {
   "cell_type": "code",
   "execution_count": null,
   "metadata": {},
   "outputs": [],
   "source": []
  }
 ],
 "metadata": {
  "kernelspec": {
   "display_name": "Python 3",
   "language": "python",
   "name": "python3"
  },
  "language_info": {
   "codemirror_mode": {
    "name": "ipython",
    "version": 3
   },
   "file_extension": ".py",
   "mimetype": "text/x-python",
   "name": "python",
   "nbconvert_exporter": "python",
   "pygments_lexer": "ipython3",
   "version": "3.8.9"
  },
  "orig_nbformat": 4,
  "vscode": {
   "interpreter": {
    "hash": "31f2aee4e71d21fbe5cf8b01ff0e069b9275f58929596ceb00d14d90e3e16cd6"
   }
  }
 },
 "nbformat": 4,
 "nbformat_minor": 2
}
